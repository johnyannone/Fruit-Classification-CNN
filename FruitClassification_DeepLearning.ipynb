{
 "cells": [
  {
   "cell_type": "markdown",
   "id": "cbb16efe-2394-489a-b2d2-4f52b929a3d2",
   "metadata": {},
   "source": [
    "# Fruit Image Classification - Deep Learning "
   ]
  },
  {
   "cell_type": "markdown",
   "id": "56ebcda3-6035-485d-8728-5e0b45ce2d77",
   "metadata": {},
   "source": [
    "The data is from [Kaggle](https://www.kaggle.com/datasets/moltean/fruits) contains nine classes of fruit and a variety of training, testing, and validation images of each class of fruit. The main objective of the analysis is to train image classifiers to recognize and predict certain types of fruits. Two CNNs will be made from sequential models in Keras while the other will be using the VGG16 prebuilt model with a few added layers."
   ]
  },
  {
   "cell_type": "code",
   "execution_count": 1,
   "id": "b8df3847-5f31-4b38-b030-877afc89697c",
   "metadata": {},
   "outputs": [],
   "source": [
    "import numpy as np \n",
    "import pandas as pd \n",
    "import matplotlib.pyplot as plt\n",
    "import warnings\n",
    "warnings.filterwarnings('ignore')\n",
    "import tensorflow as tf\n",
    "from keras.preprocessing.image import ImageDataGenerator\n",
    "from keras.models import Sequential\n",
    "from keras.layers import Dense, Dropout, Activation, Flatten\n",
    "from keras.layers import Conv2D, MaxPooling2D\n",
    "from tensorflow.keras.optimizers import Adam"
   ]
  },
  {
   "cell_type": "markdown",
   "id": "c4cf0e58-8b3d-4dde-8e82-5f8a1b114f02",
   "metadata": {},
   "source": [
    "## Load Data"
   ]
  },
  {
   "cell_type": "code",
   "execution_count": 2,
   "id": "f206abb8-eabc-473a-8d86-5da28d0fb818",
   "metadata": {},
   "outputs": [
    {
     "name": "stdout",
     "output_type": "stream",
     "text": [
      "Found 1887 files belonging to 9 classes.\n",
      "Found 937 files belonging to 9 classes.\n",
      "Found 939 files belonging to 9 classes.\n"
     ]
    }
   ],
   "source": [
    "train_dir = (r'C:\\Users\\John Yannone\\Downloads\\FruitData\\fruits-360-original-size\\Training')\n",
    "test_dir = (r'C:\\Users\\John Yannone\\Downloads\\FruitData\\fruits-360-original-size\\Test')\n",
    "valid_dir = (r'C:\\Users\\John Yannone\\Downloads\\FruitData\\fruits-360-original-size\\Validation')\n",
    "\n",
    "IMG_SIZE = (224, 224)\n",
    "train_images = tf.keras.preprocessing.image_dataset_from_directory(directory=train_dir,image_size=IMG_SIZE,batch_size=10,shuffle=False)\n",
    "test_images = tf.keras.preprocessing.image_dataset_from_directory(directory=test_dir,image_size=IMG_SIZE,batch_size=10,shuffle=False)\n",
    "valid_images =  tf.keras.preprocessing.image_dataset_from_directory(directory=valid_dir,image_size=IMG_SIZE,batch_size=10,shuffle=False)"
   ]
  },
  {
   "cell_type": "markdown",
   "id": "8fb4cf1d-4324-4800-8d40-76711fbe8edc",
   "metadata": {},
   "source": [
    "## Model 1"
   ]
  },
  {
   "cell_type": "code",
   "execution_count": 3,
   "id": "24ed3e1b-8c4a-4126-9a72-ba8b2b745e75",
   "metadata": {},
   "outputs": [
    {
     "name": "stdout",
     "output_type": "stream",
     "text": [
      "Model: \"sequential\"\n",
      "_________________________________________________________________\n",
      " Layer (type)                Output Shape              Param #   \n",
      "=================================================================\n",
      " conv2d (Conv2D)             (None, 224, 224, 16)      448       \n",
      "                                                                 \n",
      " max_pooling2d (MaxPooling2D  (None, 112, 112, 16)     0         \n",
      " )                                                               \n",
      "                                                                 \n",
      " conv2d_1 (Conv2D)           (None, 112, 112, 32)      4640      \n",
      "                                                                 \n",
      " max_pooling2d_1 (MaxPooling  (None, 56, 56, 32)       0         \n",
      " 2D)                                                             \n",
      "                                                                 \n",
      " conv2d_2 (Conv2D)           (None, 56, 56, 64)        18496     \n",
      "                                                                 \n",
      " max_pooling2d_2 (MaxPooling  (None, 28, 28, 64)       0         \n",
      " 2D)                                                             \n",
      "                                                                 \n",
      " flatten (Flatten)           (None, 50176)             0         \n",
      "                                                                 \n",
      " dense (Dense)               (None, 512)               25690624  \n",
      "                                                                 \n",
      " dense_1 (Dense)             (None, 9)                 4617      \n",
      "                                                                 \n",
      "=================================================================\n",
      "Total params: 25,718,825\n",
      "Trainable params: 25,718,825\n",
      "Non-trainable params: 0\n",
      "_________________________________________________________________\n"
     ]
    }
   ],
   "source": [
    "model_1 = Sequential([\n",
    "    Conv2D(16, 3, padding='same', activation='relu', input_shape=(224, 224 , 3)),\n",
    "    MaxPooling2D(),\n",
    "    Conv2D(32, 3, padding='same', activation='relu'),\n",
    "    MaxPooling2D(),\n",
    "    Conv2D(64, 3, padding='same', activation='relu'),\n",
    "    MaxPooling2D(),\n",
    "    Flatten(),\n",
    "    Dense(512, activation='relu'),\n",
    "    Dense(9, 'softmax')\n",
    "])\n",
    "model_1.summary()"
   ]
  },
  {
   "cell_type": "code",
   "execution_count": 4,
   "id": "1202cf0b-81e8-4288-b5d0-2c6dfa75c20e",
   "metadata": {},
   "outputs": [],
   "source": [
    "model_1.compile(optimizer=Adam(learning_rate=0.0001),loss='sparse_categorical_crossentropy', metrics=['sparse_categorical_accuracy'])"
   ]
  },
  {
   "cell_type": "code",
   "execution_count": 5,
   "id": "346cc3b6-9fdf-48bd-bdf3-fad0f7a78ebf",
   "metadata": {},
   "outputs": [
    {
     "name": "stdout",
     "output_type": "stream",
     "text": [
      "Epoch 1/5\n",
      "189/189 [==============================] - 33s 174ms/step - loss: 224.6329 - sparse_categorical_accuracy: 0.6831 - val_loss: 17.5164 - val_sparse_categorical_accuracy: 0.3419\n",
      "Epoch 2/5\n",
      "189/189 [==============================] - 32s 171ms/step - loss: 2.8573 - sparse_categorical_accuracy: 0.7896 - val_loss: 12.8245 - val_sparse_categorical_accuracy: 0.4505\n",
      "Epoch 3/5\n",
      "189/189 [==============================] - 32s 171ms/step - loss: 1.3824 - sparse_categorical_accuracy: 0.8829 - val_loss: 4.5898 - val_sparse_categorical_accuracy: 0.5463\n",
      "Epoch 4/5\n",
      "189/189 [==============================] - 32s 172ms/step - loss: 0.3048 - sparse_categorical_accuracy: 0.9433 - val_loss: 3.3193 - val_sparse_categorical_accuracy: 0.5974\n",
      "Epoch 5/5\n",
      "189/189 [==============================] - 32s 171ms/step - loss: 0.1692 - sparse_categorical_accuracy: 0.9618 - val_loss: 0.1283 - val_sparse_categorical_accuracy: 0.9606\n"
     ]
    }
   ],
   "source": [
    "history_1 = model_1.fit(train_images,\n",
    "                              epochs=5,\n",
    "                              steps_per_epoch=len(train_images),\n",
    "                              validation_data=valid_images)"
   ]
  },
  {
   "cell_type": "code",
   "execution_count": 6,
   "id": "af871dce-d797-4eb1-879b-a5af0432566a",
   "metadata": {},
   "outputs": [
    {
     "name": "stdout",
     "output_type": "stream",
     "text": [
      "94/94 [==============================] - 2s 26ms/step - loss: 0.1172 - sparse_categorical_accuracy: 0.9669\n",
      "The loss on the test set is 0.117\n",
      "The accuracy on the test set: 96.692%\n"
     ]
    }
   ],
   "source": [
    "loss_1, test_accuracy_1 = model_1.evaluate(test_images)\n",
    "\n",
    "print(f'The loss on the test set is {(loss_1):,.3f}')\n",
    "print(f'The accuracy on the test set: {(test_accuracy_1):.3%}')"
   ]
  },
  {
   "cell_type": "code",
   "execution_count": 7,
   "id": "44095ab5-0fbf-4a44-af58-b670cc8072ea",
   "metadata": {},
   "outputs": [
    {
     "data": {
      "image/png": "[encoded data removed]",
      "text/plain": [
       "<Figure size 576x576 with 1 Axes>"
      ]
     },
     "metadata": {
      "needs_background": "light"
     },
     "output_type": "display_data"
    }
   ],
   "source": [
    "acc = history_1.history['sparse_categorical_accuracy']\n",
    "val_acc = history_1.history['val_sparse_categorical_accuracy']\n",
    "\n",
    "plt.figure(figsize=(8, 8))\n",
    "plt.subplot(2, 1, 1)\n",
    "plt.plot(acc, label='Training Accuracy', marker='o', color=\"red\")\n",
    "plt.plot(val_acc, label='Validation Accuracy', marker='o', color=\"blue\",)\n",
    "plt.legend(loc='lower right')\n",
    "plt.ylabel('Accuracy')\n",
    "plt.ylim([min(plt.ylim()),1])\n",
    "plt.title('Training and Validation Accuracy');"
   ]
  },
  {
   "cell_type": "markdown",
   "id": "843a9a69-b1d8-488e-9aaf-355c1fe7f951",
   "metadata": {},
   "source": [
    "## Model 2"
   ]
  },
  {
   "cell_type": "code",
   "execution_count": 8,
   "id": "f2a430b0-21b1-426b-9efe-d5f79adf291d",
   "metadata": {},
   "outputs": [
    {
     "name": "stdout",
     "output_type": "stream",
     "text": [
      "Model: \"sequential_1\"\n",
      "_________________________________________________________________\n",
      " Layer (type)                Output Shape              Param #   \n",
      "=================================================================\n",
      " conv2d_3 (Conv2D)           (None, 224, 224, 16)      448       \n",
      "                                                                 \n",
      " max_pooling2d_3 (MaxPooling  (None, 112, 112, 16)     0         \n",
      " 2D)                                                             \n",
      "                                                                 \n",
      " conv2d_4 (Conv2D)           (None, 112, 112, 64)      9280      \n",
      "                                                                 \n",
      " max_pooling2d_4 (MaxPooling  (None, 56, 56, 64)       0         \n",
      " 2D)                                                             \n",
      "                                                                 \n",
      " flatten_1 (Flatten)         (None, 200704)            0         \n",
      "                                                                 \n",
      " dense_2 (Dense)             (None, 512)               102760960 \n",
      "                                                                 \n",
      " dense_3 (Dense)             (None, 9)                 4617      \n",
      "                                                                 \n",
      "=================================================================\n",
      "Total params: 102,775,305\n",
      "Trainable params: 102,775,305\n",
      "Non-trainable params: 0\n",
      "_________________________________________________________________\n"
     ]
    }
   ],
   "source": [
    "model_2 = Sequential([\n",
    "    Conv2D(16, 3, padding='same', activation='relu', input_shape=(224, 224 , 3)),\n",
    "    MaxPooling2D(),\n",
    "    Conv2D(64, 3, padding='same', activation='sigmoid'),\n",
    "    MaxPooling2D(),\n",
    "    Flatten(),\n",
    "    Dense(512, activation='relu'),\n",
    "    Dense(9, 'softmax')\n",
    "])\n",
    "model_2.summary()"
   ]
  },
  {
   "cell_type": "code",
   "execution_count": 9,
   "id": "f8d6c86f-198e-4684-b4f4-93764abf1bea",
   "metadata": {},
   "outputs": [],
   "source": [
    "model_2.compile(optimizer=Adam(learning_rate=0.0001),loss='sparse_categorical_crossentropy', metrics=['sparse_categorical_accuracy'])"
   ]
  },
  {
   "cell_type": "code",
   "execution_count": 10,
   "id": "c28be2b8-7ff9-4b77-abb2-223f273c10d5",
   "metadata": {},
   "outputs": [
    {
     "name": "stdout",
     "output_type": "stream",
     "text": [
      "Epoch 1/5\n",
      "189/189 [==============================] - 79s 419ms/step - loss: 37.8712 - sparse_categorical_accuracy: 0.6301 - val_loss: 16.3843 - val_sparse_categorical_accuracy: 0.0532\n",
      "Epoch 2/5\n",
      "189/189 [==============================] - 79s 417ms/step - loss: 6.5066 - sparse_categorical_accuracy: 0.6412 - val_loss: 13.2115 - val_sparse_categorical_accuracy: 0.1725\n",
      "Epoch 3/5\n",
      "189/189 [==============================] - 79s 418ms/step - loss: 5.3878 - sparse_categorical_accuracy: 0.7054 - val_loss: 5.6313 - val_sparse_categorical_accuracy: 0.4835\n",
      "Epoch 4/5\n",
      "189/189 [==============================] - 78s 414ms/step - loss: 0.9218 - sparse_categorical_accuracy: 0.8871 - val_loss: 4.3544 - val_sparse_categorical_accuracy: 0.6315\n",
      "Epoch 5/5\n",
      "189/189 [==============================] - 79s 420ms/step - loss: 1.0123 - sparse_categorical_accuracy: 0.9120 - val_loss: 7.5648 - val_sparse_categorical_accuracy: 0.5719\n"
     ]
    }
   ],
   "source": [
    "history_2 = model_2.fit(train_images,\n",
    "                              epochs=5,\n",
    "                              steps_per_epoch=len(train_images),\n",
    "                              validation_data=valid_images)"
   ]
  },
  {
   "cell_type": "code",
   "execution_count": 13,
   "id": "0a5c4945-facf-48a9-bb1e-fcf49812fa14",
   "metadata": {},
   "outputs": [
    {
     "name": "stdout",
     "output_type": "stream",
     "text": [
      "94/94 [==============================] - 4s 44ms/step - loss: 7.5328 - sparse_categorical_accuracy: 0.5678\n",
      "The loss on the test set is 7.533\n",
      "The accuracy on the test set: 56.776947%\n"
     ]
    }
   ],
   "source": [
    "loss_2, test_accuracy_2= model_2.evaluate(test_images)\n",
    "\n",
    "print(f'The loss on the test set is {(loss_2):,.3f}')\n",
    "print(f'The accuracy on the test set: {(test_accuracy_2):3%}')"
   ]
  },
  {
   "cell_type": "code",
   "execution_count": 14,
   "id": "92588fe6-63c8-4d05-b75e-6dc20788d7e4",
   "metadata": {},
   "outputs": [
    {
     "data": {
      "image/png": "[encoded data removed]",
      "text/plain": [
       "<Figure size 576x576 with 1 Axes>"
      ]
     },
     "metadata": {
      "needs_background": "light"
     },
     "output_type": "display_data"
    }
   ],
   "source": [
    "acc = history_2.history['sparse_categorical_accuracy']\n",
    "val_acc = history_2.history['val_sparse_categorical_accuracy']\n",
    "\n",
    "\n",
    "plt.figure(figsize=(8, 8))\n",
    "plt.subplot(2, 1, 1)\n",
    "plt.plot(acc, label='Training Accuracy', marker='o', color=\"red\")\n",
    "plt.plot(val_acc, label='Validation Accuracy', marker='o', color=\"blue\",)\n",
    "plt.legend(loc='lower right')\n",
    "plt.ylabel('Accuracy')\n",
    "plt.ylim([min(plt.ylim()),1])\n",
    "plt.title('Training and Validation Accuracy');"
   ]
  },
  {
   "cell_type": "markdown",
   "id": "72a74c65-d6ab-4111-88e9-a49f6cf7207c",
   "metadata": {},
   "source": [
    "## Model 3"
   ]
  },
  {
   "cell_type": "code",
   "execution_count": 15,
   "id": "b37c28c2-7b79-4a0e-a6ea-23b116255598",
   "metadata": {},
   "outputs": [
    {
     "name": "stdout",
     "output_type": "stream",
     "text": [
      "Model: \"vgg16\"\n",
      "_________________________________________________________________\n",
      " Layer (type)                Output Shape              Param #   \n",
      "=================================================================\n",
      " input_1 (InputLayer)        [(None, 224, 224, 3)]     0         \n",
      "                                                                 \n",
      " block1_conv1 (Conv2D)       (None, 224, 224, 64)      1792      \n",
      "                                                                 \n",
      " block1_conv2 (Conv2D)       (None, 224, 224, 64)      36928     \n",
      "                                                                 \n",
      " block1_pool (MaxPooling2D)  (None, 112, 112, 64)      0         \n",
      "                                                                 \n",
      " block2_conv1 (Conv2D)       (None, 112, 112, 128)     73856     \n",
      "                                                                 \n",
      " block2_conv2 (Conv2D)       (None, 112, 112, 128)     147584    \n",
      "                                                                 \n",
      " block2_pool (MaxPooling2D)  (None, 56, 56, 128)       0         \n",
      "                                                                 \n",
      " block3_conv1 (Conv2D)       (None, 56, 56, 256)       295168    \n",
      "                                                                 \n",
      " block3_conv2 (Conv2D)       (None, 56, 56, 256)       590080    \n",
      "                                                                 \n",
      " block3_conv3 (Conv2D)       (None, 56, 56, 256)       590080    \n",
      "                                                                 \n",
      " block3_pool (MaxPooling2D)  (None, 28, 28, 256)       0         \n",
      "                                                                 \n",
      " block4_conv1 (Conv2D)       (None, 28, 28, 512)       1180160   \n",
      "                                                                 \n",
      " block4_conv2 (Conv2D)       (None, 28, 28, 512)       2359808   \n",
      "                                                                 \n",
      " block4_conv3 (Conv2D)       (None, 28, 28, 512)       2359808   \n",
      "                                                                 \n",
      " block4_pool (MaxPooling2D)  (None, 14, 14, 512)       0         \n",
      "                                                                 \n",
      " block5_conv1 (Conv2D)       (None, 14, 14, 512)       2359808   \n",
      "                                                                 \n",
      " block5_conv2 (Conv2D)       (None, 14, 14, 512)       2359808   \n",
      "                                                                 \n",
      " block5_conv3 (Conv2D)       (None, 14, 14, 512)       2359808   \n",
      "                                                                 \n",
      " block5_pool (MaxPooling2D)  (None, 7, 7, 512)         0         \n",
      "                                                                 \n",
      " flatten (Flatten)           (None, 25088)             0         \n",
      "                                                                 \n",
      " fc1 (Dense)                 (None, 4096)              102764544 \n",
      "                                                                 \n",
      " fc2 (Dense)                 (None, 4096)              16781312  \n",
      "                                                                 \n",
      " predictions (Dense)         (None, 1000)              4097000   \n",
      "                                                                 \n",
      "=================================================================\n",
      "Total params: 138,357,544\n",
      "Trainable params: 138,357,544\n",
      "Non-trainable params: 0\n",
      "_________________________________________________________________\n"
     ]
    }
   ],
   "source": [
    "vgg16 = tf.keras.applications.vgg16.VGG16()\n",
    "vgg16.summary()"
   ]
  },
  {
   "cell_type": "code",
   "execution_count": 16,
   "id": "90c1fe12-9d98-4eab-9b6e-eb7633dfeae8",
   "metadata": {},
   "outputs": [],
   "source": [
    "model_3 = Sequential()\n",
    "for layer in vgg16.layers[:-1]:\n",
    "    model_3.add(layer)\n",
    "    \n",
    "model_3.add(Dense(units = 9, activation = 'softmax'))"
   ]
  },
  {
   "cell_type": "code",
   "execution_count": 17,
   "id": "bf544d2b-565a-474f-aa30-322dcee57580",
   "metadata": {},
   "outputs": [],
   "source": [
    "model_3.compile(optimizer=Adam(learning_rate=0.0001),loss='sparse_categorical_crossentropy', metrics=['sparse_categorical_accuracy'])"
   ]
  },
  {
   "cell_type": "code",
   "execution_count": 18,
   "id": "cc4ad72a-968b-4e0e-b103-7245a6019f34",
   "metadata": {},
   "outputs": [
    {
     "name": "stdout",
     "output_type": "stream",
     "text": [
      "Epoch 1/2\n",
      "189/189 [==============================] - 508s 3s/step - loss: 3.1478 - sparse_categorical_accuracy: 0.8251 - val_loss: 29.1133 - val_sparse_categorical_accuracy: 0.0852\n",
      "Epoch 2/2\n",
      "189/189 [==============================] - 508s 3s/step - loss: 3.4442 - sparse_categorical_accuracy: 0.7181 - val_loss: 5.0967 - val_sparse_categorical_accuracy: 0.0852\n"
     ]
    }
   ],
   "source": [
    "history_3 = model_3.fit(train_images,\n",
    "                              epochs=2,\n",
    "                              steps_per_epoch=len(train_images),\n",
    "                              validation_data=valid_images)"
   ]
  },
  {
   "cell_type": "code",
   "execution_count": 20,
   "id": "f4be4890-949e-4eeb-a2bb-073cf7421bed",
   "metadata": {},
   "outputs": [
    {
     "name": "stdout",
     "output_type": "stream",
     "text": [
      "94/94 [==============================] - 46s 488ms/step - loss: 5.0960 - sparse_categorical_accuracy: 0.0854\n",
      "The loss on the test set is 5.096\n",
      "The accuracy on the test set: 8.538%\n"
     ]
    }
   ],
   "source": [
    "loss_3, test_accuracy_3= model_3.evaluate(test_images)\n",
    "\n",
    "print(f'The loss on the test set is {(loss_3):,.3f}')\n",
    "print(f'The accuracy on the test set: {(test_accuracy_3):.3%}')"
   ]
  },
  {
   "cell_type": "code",
   "execution_count": 21,
   "id": "0334687c-fd99-42a2-902f-67f327a337e5",
   "metadata": {},
   "outputs": [
    {
     "data": {
      "image/png": "[encoded data removed]",
      "text/plain": [
       "<Figure size 576x576 with 1 Axes>"
      ]
     },
     "metadata": {
      "needs_background": "light"
     },
     "output_type": "display_data"
    }
   ],
   "source": [
    "acc = history_3.history['sparse_categorical_accuracy']\n",
    "val_acc = history_3.history['val_sparse_categorical_accuracy']\n",
    "\n",
    "plt.figure(figsize=(8, 8))\n",
    "plt.subplot(2, 1, 1)\n",
    "plt.plot(acc, label='Training Accuracy', marker='o', color=\"red\")\n",
    "plt.plot(val_acc, label='Validation Accuracy', marker='o', color=\"blue\",)\n",
    "plt.legend(loc='lower right')\n",
    "plt.ylabel('Accuracy')\n",
    "plt.ylim([min(plt.ylim()),1])\n",
    "plt.title('Training and Validation Accuracy');"
   ]
  },
  {
   "cell_type": "markdown",
   "id": "13661169-48fb-40a3-9dcd-5baf8c2d2e7e",
   "metadata": {},
   "source": [
    "## Conclusion/ Next Steps"
   ]
  },
  {
   "cell_type": "markdown",
   "id": "e03d5f5f-29e5-4d08-8c33-f00b65640733",
   "metadata": {},
   "source": [
    "Given the results above, model one performed the best with a test accuracy of over 96%. Having three convolutional layers, three max pooling layers, one flatten layer, and two dense layers with the various parameters gave optimal results. Adjustments to the optimzer such as the learning rate and metrics for loss and accuracy could be tuned to find better results on the models. The next steps would be to continue to fine tune and adjust model one. The other two models are largely unreliable and need to be tuned and overhauled to provide higher quality results."
   ]
  }
 ],
 "metadata": {
  "kernelspec": {
   "display_name": "Python 3 (ipykernel)",
   "language": "python",
   "name": "python3"
  },
  "language_info": {
   "codemirror_mode": {
    "name": "ipython",
    "version": 3
   },
   "file_extension": ".py",
   "mimetype": "text/x-python",
   "name": "python",
   "nbconvert_exporter": "python",
   "pygments_lexer": "ipython3",
   "version": "3.9.7"
  }
 },
 "nbformat": 4,
 "nbformat_minor": 5
}
